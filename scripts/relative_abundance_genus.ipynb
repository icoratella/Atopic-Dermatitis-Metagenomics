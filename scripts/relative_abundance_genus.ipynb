{
 "cells": [
  {
   "cell_type": "markdown",
   "metadata": {},
   "source": [
    "# Sheet 2: Comparing the **relative abundances** at the *Genus* level of the three conditions: LE, NL, HS"
   ]
  },
  {
   "cell_type": "markdown",
   "metadata": {},
   "source": [
    "The data consists of **three folders**, each corresponding to a different sample type. Within each folder, there is one .xls file for each sample. Each file comprises a dataset organized into three columns:\n",
    "\n",
    "1. **Domain**\n",
    "2. **Phylum** or **Genus**\n",
    "3. **Count**\n",
    "\n",
    "The objective is to calculate the **relative abundances** of each phylum or genus separately for each sample type, and then visually compare these abundances by plotting them together to identify any differences.\n",
    "\n",
    "For easier visualization of relative abundances at the *Genus* level, I will select the top 20 genera based on their relative abundance among Healthy Subjects and limit my analysis to these genera."
   ]
  },
  {
   "cell_type": "code",
   "execution_count": 2,
   "metadata": {},
   "outputs": [],
   "source": [
    "import pandas as pd\n",
    "import os\n",
    "import matplotlib.pyplot as plt"
   ]
  },
  {
   "cell_type": "markdown",
   "metadata": {},
   "source": [
    "### **Step 1**: *Import the genera to be kept*"
   ]
  },
  {
   "cell_type": "code",
   "execution_count": 3,
   "metadata": {},
   "outputs": [],
   "source": [
    "genera = pd.read_csv(r'C:\\Users\\Ilaria Coratella\\OneDrive - Universiteit Utrecht\\Sapienza University - Ila\\Internship Atopic Dermatitis\\revised_data\\genera_to_keep.csv').iloc[:,0].tolist()"
   ]
  },
  {
   "cell_type": "code",
   "execution_count": 4,
   "metadata": {},
   "outputs": [
    {
     "data": {
      "text/plain": [
       "['Propionibacterium',\n",
       " 'Staphylococcus',\n",
       " 'Sphingomonas',\n",
       " 'Pseudomonas',\n",
       " 'unclassified Bacteria',\n",
       " 'unclassified Sphingomonadaceae',\n",
       " 'Delftia',\n",
       " 'Streptophyta',\n",
       " 'Enhydrobacter',\n",
       " 'Corynebacterium',\n",
       " 'unclassified Pseudomonadaceae',\n",
       " 'unclassified Actinomycetales',\n",
       " 'Anaerobacillus',\n",
       " 'Pelomonas',\n",
       " 'Streptococcus',\n",
       " 'unclassified Gammaproteobacteria',\n",
       " 'Ralstonia',\n",
       " 'unclassified Bacillales',\n",
       " 'Microbacterium',\n",
       " 'unclassified Proteobacteria']"
      ]
     },
     "execution_count": 4,
     "metadata": {},
     "output_type": "execute_result"
    }
   ],
   "source": [
    "genera"
   ]
  },
  {
   "cell_type": "code",
   "execution_count": 5,
   "metadata": {},
   "outputs": [],
   "source": [
    "folder_path_LE = r\"C:\\Users\\Ilaria Coratella\\OneDrive - Universiteit Utrecht\\Sapienza University - Ila\\Internship Atopic Dermatitis\\revised_data\\2023.05.03 - AD Lesion\"\n",
    "folder_path_NL = r\"C:\\Users\\Ilaria Coratella\\OneDrive - Universiteit Utrecht\\Sapienza University - Ila\\Internship Atopic Dermatitis\\revised_data\\2023.05.03 - AD Untreated\"\n",
    "folder_path_HS = r\"C:\\Users\\Ilaria Coratella\\OneDrive - Universiteit Utrecht\\Sapienza University - Ila\\Internship Atopic Dermatitis\\revised_data\\2023.05.03 - HS\""
   ]
  },
  {
   "cell_type": "markdown",
   "metadata": {},
   "source": [
    "### **Step2**: *Concatenate the sample datasets*"
   ]
  },
  {
   "cell_type": "code",
   "execution_count": 6,
   "metadata": {},
   "outputs": [],
   "source": [
    "def concat_excel_files(folder_path):\n",
    "    dfs = []\n",
    "    \n",
    "    column_names = ['Genus', 'Count']\n",
    "\n",
    "    # Loop over the files to import them one by one\n",
    "    for filename in os.listdir(folder_path):\n",
    "        if filename.endswith('.xls'):\n",
    "            file_path = os.path.join(folder_path, filename)\n",
    "            # Read the first sheet of the excel file, because I am working at the Phylum level\n",
    "            df = pd.read_excel(file_path, sheet_name='Genus', header=None, names=column_names)\n",
    "            # Add the 'sampleId' column with the filename\n",
    "            df['SampleId'] = os.path.splitext(filename)[0]\n",
    "            dfs.append(df)\n",
    "\n",
    "    # Concatenate all dataframes into a single dataframe and rearrange\n",
    "    final_df = pd.concat(dfs, ignore_index=True)\n",
    "    cols = ['SampleId'] + [col for col in final_df.columns if col != 'SampleId']\n",
    "    final_df = final_df[cols]\n",
    "\n",
    "    # keep only the genera previously selected\n",
    "    final_df = final_df[final_df['Genus'].isin(genera)]\n",
    "    return final_df\n",
    "\n",
    "final_df_LE = concat_excel_files(folder_path_LE)\n",
    "final_df_NL = concat_excel_files(folder_path_NL)\n",
    "final_df_HS = concat_excel_files(folder_path_HS)"
   ]
  },
  {
   "cell_type": "code",
   "execution_count": 7,
   "metadata": {},
   "outputs": [
    {
     "data": {
      "text/plain": [
       "Genus\n",
       "Staphylococcus                      16\n",
       "Propionibacterium                   16\n",
       "unclassified Proteobacteria         16\n",
       "unclassified Gammaproteobacteria    16\n",
       "unclassified Pseudomonadaceae       16\n",
       "unclassified Actinomycetales        16\n",
       "unclassified Bacillales             16\n",
       "unclassified Sphingomonadaceae      16\n",
       "unclassified Bacteria               16\n",
       "Ralstonia                           16\n",
       "Pseudomonas                         16\n",
       "Pelomonas                           16\n",
       "Sphingomonas                        16\n",
       "Streptococcus                       15\n",
       "Enhydrobacter                       14\n",
       "Corynebacterium                     13\n",
       "Microbacterium                      13\n",
       "Streptophyta                        12\n",
       "Anaerobacillus                       7\n",
       "Delftia                              2\n",
       "Name: count, dtype: int64"
      ]
     },
     "execution_count": 7,
     "metadata": {},
     "output_type": "execute_result"
    }
   ],
   "source": [
    "final_df_LE.Genus.value_counts()"
   ]
  },
  {
   "cell_type": "markdown",
   "metadata": {},
   "source": [
    "### **Step 3**: *Compute the relative abundances*"
   ]
  },
  {
   "cell_type": "code",
   "execution_count": 8,
   "metadata": {},
   "outputs": [],
   "source": [
    "tot_values_LE = final_df_LE.groupby(by=['Genus'])['Count'].sum()/final_df_LE['Count'].sum()\n",
    "tot_values_NL = final_df_NL.groupby(by=['Genus'])['Count'].sum()/final_df_NL['Count'].sum()\n",
    "tot_values_HS = final_df_HS.groupby(by=['Genus'])['Count'].sum()/final_df_HS['Count'].sum()"
   ]
  },
  {
   "cell_type": "code",
   "execution_count": 9,
   "metadata": {},
   "outputs": [
    {
     "data": {
      "text/plain": [
       "Genus\n",
       "Anaerobacillus                      0.001215\n",
       "Corynebacterium                     0.072767\n",
       "Delftia                             0.001096\n",
       "Enhydrobacter                       0.051567\n",
       "Microbacterium                      0.014073\n",
       "Pelomonas                           0.028704\n",
       "Propionibacterium                   0.079785\n",
       "Pseudomonas                         0.066777\n",
       "Ralstonia                           0.006626\n",
       "Sphingomonas                        0.315452\n",
       "Staphylococcus                      0.216913\n",
       "Streptococcus                       0.012030\n",
       "Streptophyta                        0.003231\n",
       "unclassified Actinomycetales        0.012444\n",
       "unclassified Bacillales             0.014451\n",
       "unclassified Bacteria               0.058032\n",
       "unclassified Gammaproteobacteria    0.006820\n",
       "unclassified Proteobacteria         0.002961\n",
       "unclassified Pseudomonadaceae       0.005480\n",
       "unclassified Sphingomonadaceae      0.029576\n",
       "Name: Count, dtype: float64"
      ]
     },
     "execution_count": 9,
     "metadata": {},
     "output_type": "execute_result"
    }
   ],
   "source": [
    "tot_values_LE"
   ]
  },
  {
   "cell_type": "code",
   "execution_count": 10,
   "metadata": {},
   "outputs": [],
   "source": [
    "all_genera = tot_values_LE.index.union(tot_values_NL.index).union(tot_values_HS.index)\n",
    "\n",
    "# Reindex each series to include all genera (might different among sample types, want to be sure to include them all)\n",
    "tot_values_LE = tot_values_LE.reindex(all_genera, fill_value=0)\n",
    "tot_values_NL = tot_values_NL.reindex(all_genera, fill_value=0)\n",
    "tot_values_HS = tot_values_HS.reindex(all_genera, fill_value=0)"
   ]
  },
  {
   "cell_type": "code",
   "execution_count": 11,
   "metadata": {},
   "outputs": [
    {
     "data": {
      "text/plain": [
       "Genus\n",
       "Anaerobacillus                      0.001215\n",
       "Corynebacterium                     0.072767\n",
       "Delftia                             0.001096\n",
       "Enhydrobacter                       0.051567\n",
       "Microbacterium                      0.014073\n",
       "Pelomonas                           0.028704\n",
       "Propionibacterium                   0.079785\n",
       "Pseudomonas                         0.066777\n",
       "Ralstonia                           0.006626\n",
       "Sphingomonas                        0.315452\n",
       "Staphylococcus                      0.216913\n",
       "Streptococcus                       0.012030\n",
       "Streptophyta                        0.003231\n",
       "unclassified Actinomycetales        0.012444\n",
       "unclassified Bacillales             0.014451\n",
       "unclassified Bacteria               0.058032\n",
       "unclassified Gammaproteobacteria    0.006820\n",
       "unclassified Proteobacteria         0.002961\n",
       "unclassified Pseudomonadaceae       0.005480\n",
       "unclassified Sphingomonadaceae      0.029576\n",
       "Name: Count, dtype: float64"
      ]
     },
     "execution_count": 11,
     "metadata": {},
     "output_type": "execute_result"
    }
   ],
   "source": [
    "tot_values_LE"
   ]
  },
  {
   "cell_type": "markdown",
   "metadata": {},
   "source": [
    "### **Step 4**: *Concatenate the relative abundances of the three sample types*"
   ]
  },
  {
   "cell_type": "code",
   "execution_count": 12,
   "metadata": {},
   "outputs": [
    {
     "data": {
      "text/html": [
       "<div>\n",
       "<style scoped>\n",
       "    .dataframe tbody tr th:only-of-type {\n",
       "        vertical-align: middle;\n",
       "    }\n",
       "\n",
       "    .dataframe tbody tr th {\n",
       "        vertical-align: top;\n",
       "    }\n",
       "\n",
       "    .dataframe thead th {\n",
       "        text-align: right;\n",
       "    }\n",
       "</style>\n",
       "<table border=\"1\" class=\"dataframe\">\n",
       "  <thead>\n",
       "    <tr style=\"text-align: right;\">\n",
       "      <th></th>\n",
       "      <th>Genus</th>\n",
       "      <th>LE</th>\n",
       "      <th>NL</th>\n",
       "      <th>HS</th>\n",
       "    </tr>\n",
       "  </thead>\n",
       "  <tbody>\n",
       "    <tr>\n",
       "      <th>0</th>\n",
       "      <td>Anaerobacillus</td>\n",
       "      <td>0.001215</td>\n",
       "      <td>0.001443</td>\n",
       "      <td>0.012886</td>\n",
       "    </tr>\n",
       "    <tr>\n",
       "      <th>1</th>\n",
       "      <td>Corynebacterium</td>\n",
       "      <td>0.072767</td>\n",
       "      <td>0.035091</td>\n",
       "      <td>0.018245</td>\n",
       "    </tr>\n",
       "    <tr>\n",
       "      <th>2</th>\n",
       "      <td>Delftia</td>\n",
       "      <td>0.001096</td>\n",
       "      <td>0.000200</td>\n",
       "      <td>0.024357</td>\n",
       "    </tr>\n",
       "    <tr>\n",
       "      <th>3</th>\n",
       "      <td>Enhydrobacter</td>\n",
       "      <td>0.051567</td>\n",
       "      <td>0.039911</td>\n",
       "      <td>0.020652</td>\n",
       "    </tr>\n",
       "    <tr>\n",
       "      <th>4</th>\n",
       "      <td>Microbacterium</td>\n",
       "      <td>0.014073</td>\n",
       "      <td>0.013758</td>\n",
       "      <td>0.004874</td>\n",
       "    </tr>\n",
       "    <tr>\n",
       "      <th>5</th>\n",
       "      <td>Pelomonas</td>\n",
       "      <td>0.028704</td>\n",
       "      <td>0.032151</td>\n",
       "      <td>0.011801</td>\n",
       "    </tr>\n",
       "    <tr>\n",
       "      <th>6</th>\n",
       "      <td>Propionibacterium</td>\n",
       "      <td>0.079785</td>\n",
       "      <td>0.053149</td>\n",
       "      <td>0.274036</td>\n",
       "    </tr>\n",
       "    <tr>\n",
       "      <th>7</th>\n",
       "      <td>Pseudomonas</td>\n",
       "      <td>0.066777</td>\n",
       "      <td>0.165141</td>\n",
       "      <td>0.085810</td>\n",
       "    </tr>\n",
       "    <tr>\n",
       "      <th>8</th>\n",
       "      <td>Ralstonia</td>\n",
       "      <td>0.006626</td>\n",
       "      <td>0.009950</td>\n",
       "      <td>0.007701</td>\n",
       "    </tr>\n",
       "    <tr>\n",
       "      <th>9</th>\n",
       "      <td>Sphingomonas</td>\n",
       "      <td>0.315452</td>\n",
       "      <td>0.398320</td>\n",
       "      <td>0.118092</td>\n",
       "    </tr>\n",
       "    <tr>\n",
       "      <th>10</th>\n",
       "      <td>Staphylococcus</td>\n",
       "      <td>0.216913</td>\n",
       "      <td>0.098718</td>\n",
       "      <td>0.240904</td>\n",
       "    </tr>\n",
       "    <tr>\n",
       "      <th>11</th>\n",
       "      <td>Streptococcus</td>\n",
       "      <td>0.012030</td>\n",
       "      <td>0.008249</td>\n",
       "      <td>0.010876</td>\n",
       "    </tr>\n",
       "    <tr>\n",
       "      <th>12</th>\n",
       "      <td>Streptophyta</td>\n",
       "      <td>0.003231</td>\n",
       "      <td>0.021568</td>\n",
       "      <td>0.021717</td>\n",
       "    </tr>\n",
       "    <tr>\n",
       "      <th>13</th>\n",
       "      <td>unclassified Actinomycetales</td>\n",
       "      <td>0.012444</td>\n",
       "      <td>0.009624</td>\n",
       "      <td>0.014592</td>\n",
       "    </tr>\n",
       "    <tr>\n",
       "      <th>14</th>\n",
       "      <td>unclassified Bacillales</td>\n",
       "      <td>0.014451</td>\n",
       "      <td>0.003671</td>\n",
       "      <td>0.006591</td>\n",
       "    </tr>\n",
       "    <tr>\n",
       "      <th>15</th>\n",
       "      <td>unclassified Bacteria</td>\n",
       "      <td>0.058032</td>\n",
       "      <td>0.057884</td>\n",
       "      <td>0.059442</td>\n",
       "    </tr>\n",
       "    <tr>\n",
       "      <th>16</th>\n",
       "      <td>unclassified Gammaproteobacteria</td>\n",
       "      <td>0.006820</td>\n",
       "      <td>0.007638</td>\n",
       "      <td>0.008808</td>\n",
       "    </tr>\n",
       "    <tr>\n",
       "      <th>17</th>\n",
       "      <td>unclassified Proteobacteria</td>\n",
       "      <td>0.002961</td>\n",
       "      <td>0.007634</td>\n",
       "      <td>0.004854</td>\n",
       "    </tr>\n",
       "    <tr>\n",
       "      <th>18</th>\n",
       "      <td>unclassified Pseudomonadaceae</td>\n",
       "      <td>0.005480</td>\n",
       "      <td>0.008269</td>\n",
       "      <td>0.016000</td>\n",
       "    </tr>\n",
       "    <tr>\n",
       "      <th>19</th>\n",
       "      <td>unclassified Sphingomonadaceae</td>\n",
       "      <td>0.029576</td>\n",
       "      <td>0.027633</td>\n",
       "      <td>0.037762</td>\n",
       "    </tr>\n",
       "  </tbody>\n",
       "</table>\n",
       "</div>"
      ],
      "text/plain": [
       "                               Genus        LE        NL        HS\n",
       "0                     Anaerobacillus  0.001215  0.001443  0.012886\n",
       "1                    Corynebacterium  0.072767  0.035091  0.018245\n",
       "2                            Delftia  0.001096  0.000200  0.024357\n",
       "3                      Enhydrobacter  0.051567  0.039911  0.020652\n",
       "4                     Microbacterium  0.014073  0.013758  0.004874\n",
       "5                          Pelomonas  0.028704  0.032151  0.011801\n",
       "6                  Propionibacterium  0.079785  0.053149  0.274036\n",
       "7                        Pseudomonas  0.066777  0.165141  0.085810\n",
       "8                          Ralstonia  0.006626  0.009950  0.007701\n",
       "9                       Sphingomonas  0.315452  0.398320  0.118092\n",
       "10                    Staphylococcus  0.216913  0.098718  0.240904\n",
       "11                     Streptococcus  0.012030  0.008249  0.010876\n",
       "12                      Streptophyta  0.003231  0.021568  0.021717\n",
       "13      unclassified Actinomycetales  0.012444  0.009624  0.014592\n",
       "14           unclassified Bacillales  0.014451  0.003671  0.006591\n",
       "15             unclassified Bacteria  0.058032  0.057884  0.059442\n",
       "16  unclassified Gammaproteobacteria  0.006820  0.007638  0.008808\n",
       "17       unclassified Proteobacteria  0.002961  0.007634  0.004854\n",
       "18     unclassified Pseudomonadaceae  0.005480  0.008269  0.016000\n",
       "19    unclassified Sphingomonadaceae  0.029576  0.027633  0.037762"
      ]
     },
     "execution_count": 12,
     "metadata": {},
     "output_type": "execute_result"
    }
   ],
   "source": [
    "tot_values_LE = tot_values_LE.reset_index()\n",
    "tot_values_NL = tot_values_NL.reset_index()\n",
    "tot_values_HS = tot_values_HS.reset_index()\n",
    "\n",
    "tot_values_LE.columns = ['Genus', 'LE']\n",
    "tot_values_NL.columns = ['Genus', 'NL']\n",
    "tot_values_HS.columns = ['Genus', 'HS']\n",
    "\n",
    "# Merge these DataFrames on the 'Phylum' column to align all the data\n",
    "data = tot_values_LE.merge(tot_values_NL, on='Genus', how='outer').merge(tot_values_HS, on='Genus', how='outer')\n",
    "data"
   ]
  },
  {
   "cell_type": "code",
   "execution_count": 13,
   "metadata": {},
   "outputs": [
    {
     "data": {
      "text/html": [
       "<div>\n",
       "<style scoped>\n",
       "    .dataframe tbody tr th:only-of-type {\n",
       "        vertical-align: middle;\n",
       "    }\n",
       "\n",
       "    .dataframe tbody tr th {\n",
       "        vertical-align: top;\n",
       "    }\n",
       "\n",
       "    .dataframe thead th {\n",
       "        text-align: right;\n",
       "    }\n",
       "</style>\n",
       "<table border=\"1\" class=\"dataframe\">\n",
       "  <thead>\n",
       "    <tr style=\"text-align: right;\">\n",
       "      <th>Genus</th>\n",
       "      <th>Anaerobacillus</th>\n",
       "      <th>Corynebacterium</th>\n",
       "      <th>Delftia</th>\n",
       "      <th>Enhydrobacter</th>\n",
       "      <th>Microbacterium</th>\n",
       "      <th>Pelomonas</th>\n",
       "      <th>Propionibacterium</th>\n",
       "      <th>Pseudomonas</th>\n",
       "      <th>Ralstonia</th>\n",
       "      <th>Sphingomonas</th>\n",
       "      <th>Staphylococcus</th>\n",
       "      <th>Streptococcus</th>\n",
       "      <th>Streptophyta</th>\n",
       "      <th>unclassified Actinomycetales</th>\n",
       "      <th>unclassified Bacillales</th>\n",
       "      <th>unclassified Bacteria</th>\n",
       "      <th>unclassified Gammaproteobacteria</th>\n",
       "      <th>unclassified Proteobacteria</th>\n",
       "      <th>unclassified Pseudomonadaceae</th>\n",
       "      <th>unclassified Sphingomonadaceae</th>\n",
       "    </tr>\n",
       "  </thead>\n",
       "  <tbody>\n",
       "    <tr>\n",
       "      <th>LE</th>\n",
       "      <td>0.001215</td>\n",
       "      <td>0.072767</td>\n",
       "      <td>0.001096</td>\n",
       "      <td>0.051567</td>\n",
       "      <td>0.014073</td>\n",
       "      <td>0.028704</td>\n",
       "      <td>0.079785</td>\n",
       "      <td>0.066777</td>\n",
       "      <td>0.006626</td>\n",
       "      <td>0.315452</td>\n",
       "      <td>0.216913</td>\n",
       "      <td>0.01203</td>\n",
       "      <td>0.003231</td>\n",
       "      <td>0.012444</td>\n",
       "      <td>0.014451</td>\n",
       "      <td>0.058032</td>\n",
       "      <td>0.00682</td>\n",
       "      <td>0.002961</td>\n",
       "      <td>0.00548</td>\n",
       "      <td>0.029576</td>\n",
       "    </tr>\n",
       "    <tr>\n",
       "      <th>NL</th>\n",
       "      <td>0.001443</td>\n",
       "      <td>0.035091</td>\n",
       "      <td>0.0002</td>\n",
       "      <td>0.039911</td>\n",
       "      <td>0.013758</td>\n",
       "      <td>0.032151</td>\n",
       "      <td>0.053149</td>\n",
       "      <td>0.165141</td>\n",
       "      <td>0.00995</td>\n",
       "      <td>0.39832</td>\n",
       "      <td>0.098718</td>\n",
       "      <td>0.008249</td>\n",
       "      <td>0.021568</td>\n",
       "      <td>0.009624</td>\n",
       "      <td>0.003671</td>\n",
       "      <td>0.057884</td>\n",
       "      <td>0.007638</td>\n",
       "      <td>0.007634</td>\n",
       "      <td>0.008269</td>\n",
       "      <td>0.027633</td>\n",
       "    </tr>\n",
       "    <tr>\n",
       "      <th>HS</th>\n",
       "      <td>0.012886</td>\n",
       "      <td>0.018245</td>\n",
       "      <td>0.024357</td>\n",
       "      <td>0.020652</td>\n",
       "      <td>0.004874</td>\n",
       "      <td>0.011801</td>\n",
       "      <td>0.274036</td>\n",
       "      <td>0.08581</td>\n",
       "      <td>0.007701</td>\n",
       "      <td>0.118092</td>\n",
       "      <td>0.240904</td>\n",
       "      <td>0.010876</td>\n",
       "      <td>0.021717</td>\n",
       "      <td>0.014592</td>\n",
       "      <td>0.006591</td>\n",
       "      <td>0.059442</td>\n",
       "      <td>0.008808</td>\n",
       "      <td>0.004854</td>\n",
       "      <td>0.016</td>\n",
       "      <td>0.037762</td>\n",
       "    </tr>\n",
       "  </tbody>\n",
       "</table>\n",
       "</div>"
      ],
      "text/plain": [
       "Genus Anaerobacillus Corynebacterium   Delftia Enhydrobacter Microbacterium  \\\n",
       "LE          0.001215        0.072767  0.001096      0.051567       0.014073   \n",
       "NL          0.001443        0.035091    0.0002      0.039911       0.013758   \n",
       "HS          0.012886        0.018245  0.024357      0.020652       0.004874   \n",
       "\n",
       "Genus Pelomonas Propionibacterium Pseudomonas Ralstonia Sphingomonas  \\\n",
       "LE     0.028704          0.079785    0.066777  0.006626     0.315452   \n",
       "NL     0.032151          0.053149    0.165141   0.00995      0.39832   \n",
       "HS     0.011801          0.274036     0.08581  0.007701     0.118092   \n",
       "\n",
       "Genus Staphylococcus Streptococcus Streptophyta unclassified Actinomycetales  \\\n",
       "LE          0.216913       0.01203     0.003231                     0.012444   \n",
       "NL          0.098718      0.008249     0.021568                     0.009624   \n",
       "HS          0.240904      0.010876     0.021717                     0.014592   \n",
       "\n",
       "Genus unclassified Bacillales unclassified Bacteria  \\\n",
       "LE                   0.014451              0.058032   \n",
       "NL                   0.003671              0.057884   \n",
       "HS                   0.006591              0.059442   \n",
       "\n",
       "Genus unclassified Gammaproteobacteria unclassified Proteobacteria  \\\n",
       "LE                             0.00682                    0.002961   \n",
       "NL                            0.007638                    0.007634   \n",
       "HS                            0.008808                    0.004854   \n",
       "\n",
       "Genus unclassified Pseudomonadaceae unclassified Sphingomonadaceae  \n",
       "LE                          0.00548                       0.029576  \n",
       "NL                         0.008269                       0.027633  \n",
       "HS                            0.016                       0.037762  "
      ]
     },
     "execution_count": 13,
     "metadata": {},
     "output_type": "execute_result"
    }
   ],
   "source": [
    "data_transpose = data.T\n",
    "\n",
    "# To set the name of the columns\n",
    "data_transpose.columns = data_transpose.iloc[0]\n",
    "\n",
    "# To remove the now redundant column\n",
    "data_transpose = data_transpose.drop(data_transpose.index[0])\n",
    "data_transpose"
   ]
  },
  {
   "cell_type": "code",
   "execution_count": 14,
   "metadata": {},
   "outputs": [
    {
     "data": {
      "text/plain": [
       "LE    1.0\n",
       "NL    1.0\n",
       "HS    1.0\n",
       "dtype: object"
      ]
     },
     "execution_count": 14,
     "metadata": {},
     "output_type": "execute_result"
    }
   ],
   "source": [
    "data_transpose.sum(axis = 1)"
   ]
  },
  {
   "cell_type": "markdown",
   "metadata": {},
   "source": [
    "### Finally plot!"
   ]
  },
  {
   "cell_type": "code",
   "execution_count": 15,
   "metadata": {},
   "outputs": [],
   "source": [
    "palette = [\"#a0e85b\", \"#30766a\", \"#36edd3\", \"#359721\", \"#a2e0dd\", \"#333a9e\", \"#1a86e3\", \"#e3a0fa\", \"#8c0250\", \"#fa41c7\", \"#4f8c9d\", \"#8c0da4\", \"#d5d0fa\", \"#5f5c6f\", \"#562fff\", \"#3ff44c\", \"#6e390d\", \"#fca552\", \"#d6061a\", \"#fb899b\", \"#d6da7d\"]"
   ]
  },
  {
   "cell_type": "code",
   "execution_count": 18,
   "metadata": {},
   "outputs": [
    {
     "data": {
      "image/png": "[encoded data removed]",
      "text/plain": [
       "<Figure size 1200x700 with 1 Axes>"
      ]
     },
     "metadata": {},
     "output_type": "display_data"
    }
   ],
   "source": [
    "fig, ax = plt.subplots(figsize=(12, 7))\n",
    "data_transpose.plot(kind='bar', stacked=True, ax=ax, color=palette)\n",
    "\n",
    "ax.set_xlabel('Condition')\n",
    "ax.set_ylabel('Relative Abundance')\n",
    "ax.set_title('Relative Abundance of Genus by Condition')\n",
    "\n",
    "plt.xticks(rotation=0)\n",
    "\n",
    "ax.legend(title='Genus', loc='center left', bbox_to_anchor=(1, 0.5))\n",
    "\n",
    "plt.tight_layout()\n",
    "plt.show()"
   ]
  },
  {
   "cell_type": "code",
   "execution_count": null,
   "metadata": {},
   "outputs": [],
   "source": []
  }
 ],
 "metadata": {
  "kernelspec": {
   "display_name": "ML",
   "language": "python",
   "name": "python3"
  },
  "language_info": {
   "codemirror_mode": {
    "name": "ipython",
    "version": 3
   },
   "file_extension": ".py",
   "mimetype": "text/x-python",
   "name": "python",
   "nbconvert_exporter": "python",
   "pygments_lexer": "ipython3",
   "version": "3.10.13"
  }
 },
 "nbformat": 4,
 "nbformat_minor": 2
}
